{
 "cells": [
  {
   "cell_type": "markdown",
   "metadata": {},
   "source": [
    "# Factorization pattern exploration\n",
    "\n",
    "This short notebook is meant to explore the statistics of factorization patterns in irreducible polynomials over Q.  It accompanies my last lecture for Math 111T in Spring 2019."
   ]
  },
  {
   "cell_type": "code",
   "execution_count": 1,
   "metadata": {},
   "outputs": [
    {
     "data": {
      "text/latex": [
       "$\\displaystyle x$"
      ],
      "text/plain": [
       "x"
      ]
     },
     "execution_count": 1,
     "metadata": {},
     "output_type": "execute_result"
    }
   ],
   "source": [
    "from sympy import *\n",
    "var('x')"
   ]
  },
  {
   "cell_type": "code",
   "execution_count": 2,
   "metadata": {},
   "outputs": [
    {
     "data": {
      "text/latex": [
       "$\\displaystyle \\left(x - 1\\right) \\left(x + 1\\right)$"
      ],
      "text/plain": [
       "(x - 1)*(x + 1)"
      ]
     },
     "execution_count": 2,
     "metadata": {},
     "output_type": "execute_result"
    }
   ],
   "source": [
    "factor('x**2-1') # Test factoring works."
   ]
  },
  {
   "cell_type": "code",
   "execution_count": 3,
   "metadata": {},
   "outputs": [],
   "source": [
    "P = x**5 + 5*x**4 - 7*x**3 - 11*x**2 + 10*x + 3 # Nice A5 quintic."
   ]
  },
  {
   "cell_type": "code",
   "execution_count": 5,
   "metadata": {},
   "outputs": [
    {
     "data": {
      "text/plain": [
       "(1, [(x, 1), (x**2 + x - 1, 2)])"
      ]
     },
     "execution_count": 5,
     "metadata": {},
     "output_type": "execute_result"
    }
   ],
   "source": [
    "factor_list(P,modulus = 3) # Test factoring modulo a prime."
   ]
  },
  {
   "cell_type": "code",
   "execution_count": 6,
   "metadata": {},
   "outputs": [],
   "source": [
    "def factor_pattern(f, p):\n",
    "    pfac = factor_list(P,modulus = p)\n",
    "    dlist = []\n",
    "    for f in pfac[1]:\n",
    "        dlist += [degree(f[0])]*f[1]\n",
    "    return dlist"
   ]
  },
  {
   "cell_type": "code",
   "execution_count": 8,
   "metadata": {},
   "outputs": [
    {
     "name": "stdout",
     "output_type": "stream",
     "text": [
      "1000 primes generated from 2 to 7919\n"
     ]
    }
   ],
   "source": [
    "sieve._reset\n",
    "sieve.extend_to_no(1000)\n",
    "primes = sieve._list[:1000]\n",
    "print('{} primes generated from {} to {}'.format(len(primes), primes[0], primes[-1]))"
   ]
  },
  {
   "cell_type": "code",
   "execution_count": 9,
   "metadata": {},
   "outputs": [
    {
     "name": "stdout",
     "output_type": "stream",
     "text": [
      "P mod 2 factors in the pattern [5]\n",
      "P mod 3 factors in the pattern [1, 2, 2]\n",
      "P mod 5 factors in the pattern [1, 2, 2]\n",
      "P mod 7 factors in the pattern [1, 1, 3]\n",
      "P mod 11 factors in the pattern [5]\n",
      "P mod 13 factors in the pattern [5]\n",
      "P mod 17 factors in the pattern [5]\n",
      "P mod 19 factors in the pattern [5]\n",
      "P mod 23 factors in the pattern [1, 2, 2]\n",
      "P mod 29 factors in the pattern [5]\n"
     ]
    }
   ],
   "source": [
    "for p in primes[:10]:\n",
    "    print('P mod {} factors in the pattern {}'.format(p,factor_pattern(P,p)))"
   ]
  },
  {
   "cell_type": "code",
   "execution_count": 12,
   "metadata": {},
   "outputs": [],
   "source": [
    "def analyze(f, no_primes = 1000, verbose = True):\n",
    "    sieve._reset\n",
    "    sieve.extend_to_no(no_primes)\n",
    "    primes = sieve._list[:no_primes]\n",
    "    pattern_pop = {}\n",
    "    for p in primes:\n",
    "        fp = tuple(factor_pattern(f,p))\n",
    "        if fp in pattern_pop:\n",
    "            pattern_pop[fp] += 1\n",
    "        else:\n",
    "            pattern_pop[fp] = 1\n",
    "    if verbose:\n",
    "        tp = sum(pattern_pop.values())\n",
    "        print('The polynomial {} has been factored modulo {} primes.'.format(f, tp))\n",
    "        for patt in pattern_pop:\n",
    "            print('{0:} = {1:0.2%} of primes factor in pattern {2:}'.format(pattern_pop[patt], \n",
    "                                                                 pattern_pop[patt] / tp,\n",
    "                                                                 patt))\n",
    "    return pattern_pop"
   ]
  },
  {
   "cell_type": "code",
   "execution_count": 13,
   "metadata": {},
   "outputs": [
    {
     "name": "stdout",
     "output_type": "stream",
     "text": [
      "The polynomial x**5 + 5*x**4 - 7*x**3 - 11*x**2 + 10*x + 3 has been factored modulo 1000 primes.\n",
      "396 = 39.60% of primes factor in pattern (5,)\n",
      "251 = 25.10% of primes factor in pattern (1, 2, 2)\n",
      "340 = 34.00% of primes factor in pattern (1, 1, 3)\n",
      "13 = 1.30% of primes factor in pattern (1, 1, 1, 1, 1)\n"
     ]
    }
   ],
   "source": [
    "pp = analyze(P,1000)"
   ]
  },
  {
   "cell_type": "code",
   "execution_count": null,
   "metadata": {},
   "outputs": [],
   "source": []
  }
 ],
 "metadata": {
  "kernelspec": {
   "display_name": "Python 3",
   "language": "python",
   "name": "python3"
  },
  "language_info": {
   "codemirror_mode": {
    "name": "ipython",
    "version": 3
   },
   "file_extension": ".py",
   "mimetype": "text/x-python",
   "name": "python",
   "nbconvert_exporter": "python",
   "pygments_lexer": "ipython3",
   "version": "3.7.1"
  }
 },
 "nbformat": 4,
 "nbformat_minor": 2
}
