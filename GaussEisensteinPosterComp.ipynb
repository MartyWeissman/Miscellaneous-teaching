{
 "cells": [
  {
   "cell_type": "code",
   "execution_count": 48,
   "metadata": {
    "collapsed": true
   },
   "outputs": [],
   "source": [
    "import math\n",
    "from bitarray import *\n",
    "limit = 1000000"
   ]
  },
  {
   "cell_type": "code",
   "execution_count": 2,
   "metadata": {
    "collapsed": true
   },
   "outputs": [],
   "source": [
    "# Code below adapted from https://cardinalpeak.com/blog/computing-primes-in-python-and-c/\n",
    "Is_prime = bitarray(limit)\n",
    "Is_prime.setall(True)\n",
    "Is_prime[0] = False\n",
    "Is_prime[1] = False\n",
    "Is_prime[4:limit:2] = False\n",
    "sqrt_limit = sqrt(limit)\n",
    "i = 3\n",
    "\n",
    "while i < sqrt_limit:\n",
    "    Is_prime[i*i : limit : 2*i] = False\n",
    "    try:\n",
    "        i = (Is_prime.index(True, i + 1))\n",
    "    except ValueError:\n",
    "        break"
   ]
  },
  {
   "cell_type": "code",
   "execution_count": 3,
   "metadata": {
    "collapsed": false
   },
   "outputs": [
    {
     "name": "stdout",
     "output_type": "stream",
     "text": [
      "1000000\n",
      "78498\n"
     ]
    }
   ],
   "source": [
    "print limit\n",
    "print Is_prime.count()"
   ]
  },
  {
   "cell_type": "code",
   "execution_count": 73,
   "metadata": {
    "collapsed": true
   },
   "outputs": [],
   "source": [
    "# Adapted from http://math.stackexchange.com/questions/5877/efficiently-finding-two-squares-which-sum-to-a-prime\n",
    "# together with the arygcd code from NZMath at http://pydoc.net/Python/NZMATH/1.1.0/nzmath.arygcd/\n",
    "\n",
    "\"\"\"\n",
    "binary-like gcd algorithms for rational, gauss, and eisenstein integer\n",
    "\"\"\"\n",
    "\n",
    "def bit_num(a):\n",
    "    \"\"\"\n",
    "    return the number of bits\n",
    "    \"\"\"\n",
    "    if a == 0:\n",
    "        return 1\n",
    "    else:\n",
    "        return int(math.log(a, 2)) + 1\n",
    "\n",
    "\n",
    "def binarygcd(a, b):\n",
    "    \"\"\"\n",
    "    Return the greatest common divisor of 2 integers a and b\n",
    "    by binary gcd algorithm.\n",
    "    \"\"\"\n",
    "    if a < b:\n",
    "        a, b = b, a\n",
    "    if b == 0:\n",
    "        return a\n",
    "    a, b = b, a % b\n",
    "    if b == 0:\n",
    "        return a\n",
    "    k = 0\n",
    "    while not a&1 and not b&1:\n",
    "        k += 1\n",
    "        a >>= 1\n",
    "        b >>= 1\n",
    "    while not a&1:\n",
    "        a >>= 1\n",
    "    while not b&1:\n",
    "        b >>= 1\n",
    "    while a:\n",
    "        while not a & 1:\n",
    "            a >>= 1\n",
    "        if abs(a) < abs(b):\n",
    "            a, b = b, a\n",
    "        a = (a - b) >> 1\n",
    "    return b << k\n",
    "\n",
    "\n",
    "def arygcd_i(a1, a2, b1, b2):\n",
    "    \"\"\"\n",
    "    Return the greatest common divisor of 2 gauss-integers a1+a2*i and b1+b2*i\n",
    "    by (1+i)-ary gcd algorithm.\n",
    "    \"\"\"\n",
    "    if a1 == 0 and a2 == 0:\n",
    "       return b1, b2\n",
    "    elif b1 == 0 and b2 == 0:\n",
    "       return a1, a2\n",
    "    ap, bp = 0, 0\n",
    "    while (a1-a2)&1 == 0:\n",
    "        a1, a2 = (a1+a2) >> 1, (a2-a1) >> 1\n",
    "        ap += 1\n",
    "    while (b1-b2)&1 == 0:\n",
    "        b1, b2 = (b1+b2) >> 1, (b2-b1) >> 1\n",
    "        bp += 1\n",
    "    k = min(ap, bp)\n",
    "    while a1 != 0 or a2 != 0:\n",
    "        while (a1-a2) & 1 == 0:\n",
    "            a1, a2 = (a1+a2) >> 1, (a2-a1) >> 1\n",
    "        norm_a, norm_b = _ap_norm_i(a1, a2, b1, b2)\n",
    "        if norm_a < norm_b:\n",
    "            a1, a2, b1, b2 = b1, b2, a1, a2\n",
    "        a1, a2 = _FormAdj_i(a1, a2)\n",
    "        b1, b2 = _FormAdj_i(b1, b2)\n",
    "        a1, a2 = a1-b1, a2-b2\n",
    "    if 0 in (ap, bp):\n",
    "        return b1, b2\n",
    "    else:\n",
    "        s, t = _n_pow_i(1, 1, k)\n",
    "        return (b1*s)-(b2*t), (b1*t)+(b2*s)\n",
    "\n",
    "def _ap_norm_i(a, b, c, d):\n",
    "    \"\"\"\n",
    "    Return approximately norm of 2 gaussInteger a+b*i and c+d*i  \n",
    "    \"\"\"\n",
    "    a, b, c, d = abs(a), abs(b), abs(c), abs(d)\n",
    "    max_dig = max(bit_num(a), bit_num(b), bit_num(c), bit_num(d))\n",
    "    if max_dig > 6:\n",
    "        sft_num = max_dig - 6\n",
    "        a, b, c, d = a >> sft_num, b >> sft_num, c >> sft_num, d >> sft_num\n",
    "        return a*a + b*b, c*c + d*d\n",
    "    else:\n",
    "        return a*a + b*b, c*c + d*d\n",
    "\n",
    "def _n_pow_i(a, b, n):\n",
    "    \"\"\"\n",
    "    return (1+i)**k \n",
    "    \"\"\"\n",
    "    x = a\n",
    "    y = b\n",
    "\n",
    "    for i in range(1, n):\n",
    "        x1 = (x*a) - (y*b)\n",
    "        y1 = (y*a) + (x*b)\n",
    "        x = x1\n",
    "        y = y1\n",
    "    return x, y\n",
    "\n",
    "def _FormAdj_i(a, b):\n",
    "    \"\"\"\n",
    "    transform gaussInteger a+b*i ->  form 1+2(1+i)*(x+y*i)\n",
    "    \"\"\"\n",
    "    if a % 2 == 0:\n",
    "        a, b = -b, a\n",
    "    if (b - a + 1) % 4 == 0:\n",
    "        return a, b\n",
    "    else:\n",
    "        return -a, -b\n",
    "\n",
    "\n",
    "def arygcd_w(a1, a2, b1, b2):\n",
    "    \"\"\"\n",
    "    Return the greatest common divisor of 2 eisensteinIntegers a1+a2*w and b1+b2*w\n",
    "    by (1-w)-ary gcd algorithm.\n",
    "    \"\"\"\n",
    "    if a1 == 0 and a2 == 0:\n",
    "       return b1, b2\n",
    "    elif b1 == 0 and b2 == 0:\n",
    "       return a1, a2\n",
    "    ap, bp = 0, 0\n",
    "    while (a1 + a2) % 3 == 0:\n",
    "        a1, a2 = (a1 + a1 - a2) / 3, (a1 + a2) / 3\n",
    "        ap += 1\n",
    "    while (b1 + b2) % 3 == 0:\n",
    "        b1, b2 = (b1 + b1 - b2) / 3, (b1 + b2) / 3\n",
    "        bp += 1\n",
    "    k = min(ap, bp)\n",
    "    while a1 != 0 or a2 != 0:\n",
    "        while (a1 + a2) % 3 == 0:\n",
    "            a1, a2 = (a1 + a1 - a2) / 3, (a1 + a2) / 3\n",
    "        nrm_a, nrm_b = _ap_norm_w(a1, a2, b1, b2)\n",
    "        if nrm_a < nrm_b:\n",
    "            a1, a2, b1, b2 = b1, b2, a1, a2\n",
    "        a1, a2 = _FormAdj_w(a1, a2)\n",
    "        b1, b2 = _FormAdj_w(b1, b2)\n",
    "        a1, a2 = a1 - b1, a2 - b2\n",
    "    k1, k2 = _n_pow_w(k)\n",
    "    return k1*b1 - k2*b2, k1*b2 + k2*b1 - k2*b2\n",
    "\n",
    "def _ap_norm_w(a, b, c, d):\n",
    "    \"\"\"\n",
    "    Return approximately norm of 2 eisensteinInteger a+b*w and c+d*w  \n",
    "    \"\"\"\n",
    "    a, b, c, d = abs(a), abs(b), abs(c), abs(d)\n",
    "    max_dig = max(bit_num(a), bit_num(b), bit_num(c), bit_num(d))\n",
    "    if max_dig > 6:\n",
    "        sft_num = max_dig - 6\n",
    "        a, b, c, d = a >> sft_num, b >> sft_num, c >> sft_num, d >> sft_num\n",
    "        subst1, subst2 = (a - b) >> sft_num, (c - d) >> sft_num\n",
    "        return a*a + b*b + subst1*subst1, c*c + d*d + subst2*subst2\n",
    "    else:\n",
    "        return a*a + b*b + (a - b)*(a - b), c*c + d*d + (c -d)*(c -d)\n",
    "\n",
    "def _n_pow_w(n):\n",
    "    \"\"\"\n",
    "    return (1-w)**k\n",
    "    \"\"\"\n",
    "    x, y = divmod(n, 2)\n",
    "    k1 = 3**x\n",
    "    if y == 1:\n",
    "        k2 = -k1\n",
    "    else:\n",
    "        k2 = 0\n",
    "    return k1, k2\n",
    "\n",
    "def _FormAdj_w(a1, a2):\n",
    "    \"\"\"\n",
    "    transform eisensteinInteger a1+a2*w ->  form 1+3*(x+y*w)\n",
    "    \"\"\"\n",
    "    if a1 % 3 == 0:\n",
    "        if a2 % 3 == -1 or a2 % 3 == 2:\n",
    "            return a1 - a2, a1\n",
    "        else:\n",
    "            return a2 - a1, -a1\n",
    "    elif a1 % 3 == 1:\n",
    "        if a2 % 3 == 1:\n",
    "            return a2, a2 -a1\n",
    "        else:\n",
    "            return a1, a2\n",
    "    else:\n",
    "        if a2 % 3 == -1 or a2 % 3 == 2:\n",
    "            return -a2, a1 -a2\n",
    "        else:\n",
    "            return -a1, -a2\n",
    "\n",
    "def root4(p):\n",
    "    # 4th root of 1 modulo p\n",
    "    if p <= 1:\n",
    "        return \"too small\"\n",
    "    if (p % 4) != 1:\n",
    "        return \"not congruent to 1\"\n",
    "    k = p/4\n",
    "    j = 2\n",
    "    while True:\n",
    "        a = pow(j, k, p)\n",
    "        b = (a * a) % p\n",
    "        if b == p-1:\n",
    "            return a\n",
    "        if b != 1:\n",
    "            return \"not prime\"\n",
    "        j += 1\n",
    "\n",
    "def root3(p):\n",
    "    # 3rd root of 1 modulo p\n",
    "    if p <= 1:\n",
    "        return \"too small\"\n",
    "    if (p%3) != 1:\n",
    "        return \"not congruent to 1\"\n",
    "    k = p/3\n",
    "    j = 2\n",
    "    while True:\n",
    "        a = pow(j,k,p)\n",
    "        b = pow(a,3,p)\n",
    "        if b != 1:\n",
    "            return \"not prime\"\n",
    "        if a != 1:\n",
    "            return a\n",
    "        j += 1\n",
    "        \n",
    "def gaussfac(p):\n",
    "    a = root4(p)\n",
    "    return arygcd_i(p,0,a,1)\n",
    "\n",
    "def eisenfac(p):\n",
    "    a = root3(p)\n",
    "    return arygcd_w(p,0,a,-1)"
   ]
  },
  {
   "cell_type": "code",
   "execution_count": 74,
   "metadata": {
    "collapsed": false
   },
   "outputs": [
    {
     "name": "stdout",
     "output_type": "stream",
     "text": [
      "35 1\n"
     ]
    }
   ],
   "source": [
    "p = 97\n",
    "a = root3(p)\n",
    "print a, pow(a,3,p)\n"
   ]
  },
  {
   "cell_type": "code",
   "execution_count": 78,
   "metadata": {
    "collapsed": false
   },
   "outputs": [
    {
     "name": "stdout",
     "output_type": "stream",
     "text": [
      "-5 -6\n",
      "31\n"
     ]
    }
   ],
   "source": [
    "u,v = eisenfac(31)\n",
    "print u,v\n",
    "print u*u - u*v + v*v"
   ]
  },
  {
   "cell_type": "code",
   "execution_count": 216,
   "metadata": {
    "collapsed": true
   },
   "outputs": [],
   "source": [
    "alimit = 100000"
   ]
  },
  {
   "cell_type": "code",
   "execution_count": 217,
   "metadata": {
    "collapsed": false
   },
   "outputs": [
    {
     "name": "stdout",
     "output_type": "stream",
     "text": [
      "4783\n",
      "4783\n"
     ]
    }
   ],
   "source": [
    "gprimes = []\n",
    "plist = [p for p in range(alimit) if ((p%4 == 1) and Is_prime[p])]\n",
    "for p in plist:\n",
    "    gprimes.append(gaussfac(p))\n",
    "print len(plist)\n",
    "print len(gprimes)"
   ]
  },
  {
   "cell_type": "code",
   "execution_count": 218,
   "metadata": {
    "collapsed": false
   },
   "outputs": [
    {
     "name": "stdout",
     "output_type": "stream",
     "text": [
      "4784\n",
      "4784\n"
     ]
    }
   ],
   "source": [
    "eprimes = []\n",
    "qlist = [q for q in range(alimit) if ((q%3 == 1) and Is_prime[q])]\n",
    "for q in qlist:\n",
    "    eprimes.append(eisenfac(q))\n",
    "print len(qlist)\n",
    "print len(eprimes)"
   ]
  },
  {
   "cell_type": "code",
   "execution_count": 219,
   "metadata": {
    "collapsed": false
   },
   "outputs": [],
   "source": [
    "radius = 5\n",
    "rout = radius * 1.02\n",
    "largest = plist[-1]\n",
    "sl = sqrt(largest)\n",
    "dotradius = radius*0.5/ sl\n",
    "S = ''\n",
    "for i in range(len(plist)):\n",
    "    p = plist[i] # A prime congruent to 1 mod 4.\n",
    "    r = sqrt(p) # Its square root.\n",
    "    g = gprimes[i] # A Gaussian prime of norm p\n",
    "    # (ax, ay) on unit circle, at angle of g\n",
    "    ax = g[0]/r\n",
    "    ay = g[1]/r\n",
    "    # (gx, gy) within unit circle.\n",
    "    gx = g[0]/sl\n",
    "    gy = g[1]/sl\n",
    "    S += '\\\\fill[blue] (%.3f in, %.3f in) circle (%.3f in);'%(gx * radius, gy * radius, dotradius)\n",
    "    S += '\\\\draw[black, opacity=0.1] (%.3f in, %.3f in) -- (%.3f in, %.3f in);'%(ax * radius, ay*radius, ax*rout, ay*rout)\n",
    "    S += '\\n'\n",
    "\n",
    "pilist = [p for p in range(int(sl)) if ((p%4 == 3) and Is_prime[p])]\n",
    "for p in pilist:\n",
    "    gx = p/sl\n",
    "    gy = 0\n",
    "    S += '\\\\fill[red] (%.3f in, %.3f in) circle (%.3f in);'%(gx * radius, gy * radius, dotradius)\n",
    "    S += '\\n'\n",
    "    \n",
    "S += '\\\\draw[red] (%.3f in, %.3f in) -- (%.3f in, %.3f in);'%(1 * radius, 0, 1*rout, 0)   \n",
    "\n",
    "p = 2\n",
    "r = sqrt(p)\n",
    "g = (1,1)\n",
    "ax = g[0]/r\n",
    "ay = g[1]/r\n",
    "# (gx, gy) within unit circle.\n",
    "gx = g[0]/sl\n",
    "gy = g[1]/sl\n",
    "S += '\\\\fill[green] (%.3f in, %.3f in) circle (%.3f in);'%(gx * radius, gy * radius, dotradius)\n",
    "S += '\\\\draw[green] (%.3f in, %.3f in) -- (%.3f in, %.3f in);'%(ax * radius, ay*radius, ax*rout, ay*rout)\n",
    "S += '\\n'\n"
   ]
  },
  {
   "cell_type": "code",
   "execution_count": 220,
   "metadata": {
    "collapsed": true
   },
   "outputs": [],
   "source": [
    "f = open('GCircle.tex', 'w')\n",
    "f.write(S)\n",
    "f.close()"
   ]
  },
  {
   "cell_type": "code",
   "execution_count": null,
   "metadata": {
    "collapsed": false
   },
   "outputs": [],
   "source": []
  },
  {
   "cell_type": "code",
   "execution_count": 221,
   "metadata": {
    "collapsed": false
   },
   "outputs": [
    {
     "data": {
      "text/plain": [
       "4783"
      ]
     },
     "execution_count": 221,
     "metadata": {},
     "output_type": "execute_result"
    }
   ],
   "source": [
    "len(plist)"
   ]
  },
  {
   "cell_type": "code",
   "execution_count": 222,
   "metadata": {
    "collapsed": false
   },
   "outputs": [],
   "source": [
    "sthree = sqrt(3) / 2"
   ]
  },
  {
   "cell_type": "code",
   "execution_count": 223,
   "metadata": {
    "collapsed": true
   },
   "outputs": [],
   "source": [
    "radius = 5\n",
    "rout = radius * 1.02\n",
    "largest = qlist[-1]\n",
    "sl = sqrt(largest)\n",
    "dotradius = radius*0.5 / sl\n",
    "T = ''\n",
    "for i in range(len(qlist)):\n",
    "    q = qlist[i] # A prime congruent to 1 mod 3.\n",
    "    r = sqrt(q) # Its square root.\n",
    "    e = eprimes[i] # An Eiseinstein prime of norm p\n",
    "    # (ax, ay) on unit circle, at angle of g\n",
    "    ax = (e[0] - (e[1] * 0.5) )/r\n",
    "    ay = e[1] * sthree /r\n",
    "    # (gx, gy) within unit circle.\n",
    "    ex = (e[0] - (e[1] * 0.5) )/sl\n",
    "    ey = e[1] * sthree/sl\n",
    "    T += '\\\\fill[blue] (%.3f in, %.3f in) circle (%.3f in);'%(ex * radius, ey * radius, dotradius)\n",
    "    T += '\\\\draw[black, opacity=0.1] (%.3f in, %.3f in) -- (%.3f in, %.3f in);'%(ax * radius, ay*radius, ax*rout, ay*rout)\n",
    "    T += '\\n'\n",
    "    \n",
    "pilist = [p for p in range(int(sl)) if ((p%3 == 2) and Is_prime[p])]\n",
    "for p in pilist:\n",
    "    gx = p/sl\n",
    "    gy = 0\n",
    "    T += '\\\\fill[red] (%.3f in, %.3f in) circle (%.3f in);'%(gx * radius, gy * radius, dotradius)\n",
    "    T += '\\n'\n",
    "    \n",
    "T += '\\\\draw[red] (%.3f in, %.3f in) -- (%.3f in, %.3f in);'%(0.5 * radius, sthree * radius, 0.5*rout, sthree * rout)   \n",
    "\n",
    "p = 3\n",
    "r = sqrt(p)\n",
    "e = (1,-1)\n",
    "ax = (e[0] - (e[1] * 0.5) )/r\n",
    "ay = e[1] * sthree /r\n",
    "# (gx, gy) within unit circle.\n",
    "ex = (e[0] - (e[1] * 0.5) )/sl\n",
    "ey = e[1] * sthree/sl\n",
    "T += '\\\\fill[green] (%.3f in, %.3f in) circle (%.3f in);'%(ex * radius, ey * radius, dotradius)\n",
    "T += '\\\\draw[green] (%.3f in, %.3f in) -- (%.3f in, %.3f in);'%(ax * radius, ay*radius, ax*rout, ay*rout)"
   ]
  },
  {
   "cell_type": "code",
   "execution_count": 224,
   "metadata": {
    "collapsed": true
   },
   "outputs": [],
   "source": [
    "f = open('ECircle.tex', 'w')\n",
    "f.write(T)\n",
    "f.close()"
   ]
  },
  {
   "cell_type": "code",
   "execution_count": 225,
   "metadata": {
    "collapsed": false
   },
   "outputs": [
    {
     "name": "stdout",
     "output_type": "stream",
     "text": [
      "95672\n"
     ]
    }
   ],
   "source": [
    "print len(plist) * 8 + len(qlist) * 12"
   ]
  },
  {
   "cell_type": "code",
   "execution_count": null,
   "metadata": {
    "collapsed": true
   },
   "outputs": [],
   "source": []
  }
 ],
 "metadata": {
  "kernelspec": {
   "display_name": "Python 2",
   "language": "python",
   "name": "python2"
  },
  "language_info": {
   "codemirror_mode": {
    "name": "ipython",
    "version": 2
   },
   "file_extension": ".py",
   "mimetype": "text/x-python",
   "name": "python",
   "nbconvert_exporter": "python",
   "pygments_lexer": "ipython2",
   "version": "2.7.11"
  }
 },
 "nbformat": 4,
 "nbformat_minor": 0
}
