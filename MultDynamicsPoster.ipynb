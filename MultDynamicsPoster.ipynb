{
 "cells": [
  {
   "cell_type": "code",
   "execution_count": 1,
   "metadata": {
    "collapsed": true
   },
   "outputs": [],
   "source": [
    "from fractions import gcd\n",
    "from math import sin, cos, pi, sqrt"
   ]
  },
  {
   "cell_type": "code",
   "execution_count": 2,
   "metadata": {
    "collapsed": true
   },
   "outputs": [],
   "source": [
    "def cyclength(a,p):\n",
    "    if gcd(a,p) != 1:\n",
    "        print \"Not coprime\"\n",
    "        return None\n",
    "    x = 1\n",
    "    ell = 0\n",
    "    while (ell == 0 or x != 1):\n",
    "        x = (x*a)%p\n",
    "        ell += 1\n",
    "    return ell"
   ]
  },
  {
   "cell_type": "code",
   "execution_count": 3,
   "metadata": {
    "collapsed": true
   },
   "outputs": [],
   "source": [
    "def makecycles(a,p):\n",
    "    ell = cyclength(a,p)\n",
    "    nocyc = (p-1) / ell\n",
    "    cycles = []\n",
    "    whatsleft = set(range(1,p))\n",
    "    for k in range(nocyc):\n",
    "        cycles.append([])\n",
    "        b = min(whatsleft)\n",
    "        for e in range(ell):\n",
    "            cycles[k].append(b)\n",
    "            whatsleft.remove(b)\n",
    "            b = (b*a)%p\n",
    "    return cycles"
   ]
  },
  {
   "cell_type": "code",
   "execution_count": 4,
   "metadata": {
    "collapsed": false
   },
   "outputs": [
    {
     "data": {
      "text/plain": [
       "[[1, 3, 9], [2, 6, 5], [4, 12, 10], [7, 8, 11]]"
      ]
     },
     "execution_count": 4,
     "metadata": {},
     "output_type": "execute_result"
    }
   ],
   "source": [
    "makecycles(3,13)"
   ]
  },
  {
   "cell_type": "code",
   "execution_count": 131,
   "metadata": {
    "collapsed": false
   },
   "outputs": [],
   "source": [
    "def epirads(nocyc, ell):\n",
    "    if nocyc == 1:\n",
    "        return 0,1\n",
    "    elif nocyc == 2:\n",
    "        return (0.53, 0.47)\n",
    "    elif nocyc == 3:\n",
    "        return (0.6,0.4)\n",
    "    else:\n",
    "        outrad = 1.35 / nocyc\n",
    "        inrad = 1 - outrad\n",
    "        return inrad, outrad"
   ]
  },
  {
   "cell_type": "code",
   "execution_count": 132,
   "metadata": {
    "collapsed": false
   },
   "outputs": [
    {
     "data": {
      "text/plain": [
       "(0.53, 0.47)"
      ]
     },
     "execution_count": 132,
     "metadata": {},
     "output_type": "execute_result"
    }
   ],
   "source": [
    "epirads(2,30)"
   ]
  },
  {
   "cell_type": "code",
   "execution_count": 156,
   "metadata": {
    "collapsed": false
   },
   "outputs": [],
   "source": [
    "def diagram(a,p,rad, guide=True):\n",
    "    S = \"\"\n",
    "    C = makecycles(a,p)\n",
    "    nocyc = len(C)\n",
    "    ell = len(C[0])\n",
    "    bangle = 180.0 / ell\n",
    "    inrad, outrad = epirads(nocyc, ell)\n",
    "    inrad = inrad * rad\n",
    "    outrad = outrad * rad\n",
    "    if guide:\n",
    "        S += \"\\\\draw[green] (0,0) circle (%.3f in); \\n\"%(inrad)\n",
    "        S += \"\\\\draw[green] (0,0) circle (%.3f in); \\n\"%(outrad + inrad)\n",
    "        S += \"\\\\draw[green] (0,%.3f in) circle (%.3f in); \\n\"%(inrad, outrad)\n",
    "    if a == 1:\n",
    "        S += \"\\\\draw[blue] (0,0) node {+}; \\n\"\n",
    "    else:\n",
    "        if (nocyc%2) == 1:\n",
    "            S += \"\\\\draw[blue] (0,0) node {-}; \\n\"\n",
    "        else:\n",
    "            S += \"\\\\draw[blue] (0,0) node {+}; \\n\"\n",
    "            \n",
    "    angle = pi / 2\n",
    "    for k in range(nocyc):\n",
    "        xk = cos(angle) * inrad\n",
    "        yk = sin(angle) * inrad\n",
    "                    \n",
    "        for e in range(ell):\n",
    "            outangle = angle + (2*pi*e / ell)\n",
    "            x = xk + (cos(outangle)*outrad)\n",
    "            y = yk + (sin(outangle)*outrad)\n",
    "            n = C[k][e]\n",
    "                    \n",
    "            if ((k == 0) and (e == 1) and (a != 1)) or ((k == 0) and (e == 0) and (a == 1)):\n",
    "                ncolor = 'red'\n",
    "            else:\n",
    "                ncolor = 'black'\n",
    "            S += \"\\\\node[%s, inner sep=1pt] (N%d) at (%.3f in, %.3f in) {\\\\scriptsize $%d$}; \\n\"%(ncolor, n,x,y,n)\n",
    "            if ell == 1:\n",
    "                oa = (outangle*180/pi) - (1000/nocyc)\n",
    "                ia = oa + (2000 / nocyc)\n",
    "                #sx = xk + (cos(outangle)*outrad*1.05)\n",
    "                #sy = yk + (sin(outangle)*outrad*1.05)\n",
    "                S += \"\\\\node[shape = circle] (M%d) at (%.3f in, %.3f in) {}; \\n\"%(n,x,y)\n",
    "                S += \"\\\\draw[-{Stealth[quick, flex']}] (M%d) edge [out = %.3f, in = %.3f, looseness=15] (M%d); \\n\"%(n, oa,ia, n)\n",
    "            else:\n",
    "                deva = 0.2\n",
    "                sangle = outangle + (2*pi*deva / ell)\n",
    "                sx = xk + (cos(sangle)*outrad)\n",
    "                sy = yk + (sin(sangle)*outrad)\n",
    "                sa = outangle*180/pi\n",
    "                ea = sa + (360 / ell)\n",
    "                offa = 360.0 * deva / ell\n",
    "                sa += offa\n",
    "                ea = ea - offa\n",
    "                S += \"\\\\draw[-{Stealth[quick, flex']}] (%.3f in, %.3f in) arc[start angle=%.3f, end angle=%.3f, radius=%.3f in]; \\n\"%(sx,sy,sa,ea, outrad)\n",
    "        angle += 2*pi/nocyc\n",
    "    \n",
    "    return S"
   ]
  },
  {
   "cell_type": "code",
   "execution_count": 157,
   "metadata": {
    "collapsed": false,
    "scrolled": true
   },
   "outputs": [
    {
     "name": "stdout",
     "output_type": "stream",
     "text": [
      "\\draw[green] (0,0) circle (1.203 in); \n",
      "\\draw[green] (0,0) circle (1.250 in); \n",
      "\\draw[green] (0,1.203 in) circle (0.047 in); \n",
      "\\draw[blue] (0,0) node {+}; \n",
      "\\node[red, inner sep=1pt] (N1) at (0.000 in, 1.250 in) {\\scriptsize $1$}; \n",
      "\\node[shape = circle] (M1) at (0.000 in, 1.250 in) {}; \n",
      "\\draw[-{Stealth[quick, flex']}] (M1) edge [out = 63.000, in = 118.000, looseness=15] (M1); \n",
      "\\node[black, inner sep=1pt] (N2) at (-0.217 in, 1.231 in) {\\scriptsize $2$}; \n",
      "\\node[shape = circle] (M2) at (-0.217 in, 1.231 in) {}; \n",
      "\\draw[-{Stealth[quick, flex']}] (M2) edge [out = 73.000, in = 128.000, looseness=15] (M2); \n",
      "\\node[black, inner sep=1pt] (N3) at (-0.428 in, 1.175 in) {\\scriptsize $3$}; \n",
      "\\node[shape = circle] (M3) at (-0.428 in, 1.175 in) {}; \n",
      "\\draw[-{Stealth[quick, flex']}] (M3) edge [out = 83.000, in = 138.000, looseness=15] (M3); \n",
      "\\node[black, inner sep=1pt] (N4) at (-0.625 in, 1.083 in) {\\scriptsize $4$}; \n",
      "\\node[shape = circle] (M4) at (-0.625 in, 1.083 in) {}; \n",
      "\\draw[-{Stealth[quick, flex']}] (M4) edge [out = 93.000, in = 148.000, looseness=15] (M4); \n",
      "\\node[black, inner sep=1pt] (N5) at (-0.803 in, 0.958 in) {\\scriptsize $5$}; \n",
      "\\node[shape = circle] (M5) at (-0.803 in, 0.958 in) {}; \n",
      "\\draw[-{Stealth[quick, flex']}] (M5) edge [out = 103.000, in = 158.000, looseness=15] (M5); \n",
      "\\node[black, inner sep=1pt] (N6) at (-0.958 in, 0.803 in) {\\scriptsize $6$}; \n",
      "\\node[shape = circle] (M6) at (-0.958 in, 0.803 in) {}; \n",
      "\\draw[-{Stealth[quick, flex']}] (M6) edge [out = 113.000, in = 168.000, looseness=15] (M6); \n",
      "\\node[black, inner sep=1pt] (N7) at (-1.083 in, 0.625 in) {\\scriptsize $7$}; \n",
      "\\node[shape = circle] (M7) at (-1.083 in, 0.625 in) {}; \n",
      "\\draw[-{Stealth[quick, flex']}] (M7) edge [out = 123.000, in = 178.000, looseness=15] (M7); \n",
      "\\node[black, inner sep=1pt] (N8) at (-1.175 in, 0.428 in) {\\scriptsize $8$}; \n",
      "\\node[shape = circle] (M8) at (-1.175 in, 0.428 in) {}; \n",
      "\\draw[-{Stealth[quick, flex']}] (M8) edge [out = 133.000, in = 188.000, looseness=15] (M8); \n",
      "\\node[black, inner sep=1pt] (N9) at (-1.231 in, 0.217 in) {\\scriptsize $9$}; \n",
      "\\node[shape = circle] (M9) at (-1.231 in, 0.217 in) {}; \n",
      "\\draw[-{Stealth[quick, flex']}] (M9) edge [out = 143.000, in = 198.000, looseness=15] (M9); \n",
      "\\node[black, inner sep=1pt] (N10) at (-1.250 in, 0.000 in) {\\scriptsize $10$}; \n",
      "\\node[shape = circle] (M10) at (-1.250 in, 0.000 in) {}; \n",
      "\\draw[-{Stealth[quick, flex']}] (M10) edge [out = 153.000, in = 208.000, looseness=15] (M10); \n",
      "\\node[black, inner sep=1pt] (N11) at (-1.231 in, -0.217 in) {\\scriptsize $11$}; \n",
      "\\node[shape = circle] (M11) at (-1.231 in, -0.217 in) {}; \n",
      "\\draw[-{Stealth[quick, flex']}] (M11) edge [out = 163.000, in = 218.000, looseness=15] (M11); \n",
      "\\node[black, inner sep=1pt] (N12) at (-1.175 in, -0.428 in) {\\scriptsize $12$}; \n",
      "\\node[shape = circle] (M12) at (-1.175 in, -0.428 in) {}; \n",
      "\\draw[-{Stealth[quick, flex']}] (M12) edge [out = 173.000, in = 228.000, looseness=15] (M12); \n",
      "\\node[black, inner sep=1pt] (N13) at (-1.083 in, -0.625 in) {\\scriptsize $13$}; \n",
      "\\node[shape = circle] (M13) at (-1.083 in, -0.625 in) {}; \n",
      "\\draw[-{Stealth[quick, flex']}] (M13) edge [out = 183.000, in = 238.000, looseness=15] (M13); \n",
      "\\node[black, inner sep=1pt] (N14) at (-0.958 in, -0.803 in) {\\scriptsize $14$}; \n",
      "\\node[shape = circle] (M14) at (-0.958 in, -0.803 in) {}; \n",
      "\\draw[-{Stealth[quick, flex']}] (M14) edge [out = 193.000, in = 248.000, looseness=15] (M14); \n",
      "\\node[black, inner sep=1pt] (N15) at (-0.803 in, -0.958 in) {\\scriptsize $15$}; \n",
      "\\node[shape = circle] (M15) at (-0.803 in, -0.958 in) {}; \n",
      "\\draw[-{Stealth[quick, flex']}] (M15) edge [out = 203.000, in = 258.000, looseness=15] (M15); \n",
      "\\node[black, inner sep=1pt] (N16) at (-0.625 in, -1.083 in) {\\scriptsize $16$}; \n",
      "\\node[shape = circle] (M16) at (-0.625 in, -1.083 in) {}; \n",
      "\\draw[-{Stealth[quick, flex']}] (M16) edge [out = 213.000, in = 268.000, looseness=15] (M16); \n",
      "\\node[black, inner sep=1pt] (N17) at (-0.428 in, -1.175 in) {\\scriptsize $17$}; \n",
      "\\node[shape = circle] (M17) at (-0.428 in, -1.175 in) {}; \n",
      "\\draw[-{Stealth[quick, flex']}] (M17) edge [out = 223.000, in = 278.000, looseness=15] (M17); \n",
      "\\node[black, inner sep=1pt] (N18) at (-0.217 in, -1.231 in) {\\scriptsize $18$}; \n",
      "\\node[shape = circle] (M18) at (-0.217 in, -1.231 in) {}; \n",
      "\\draw[-{Stealth[quick, flex']}] (M18) edge [out = 233.000, in = 288.000, looseness=15] (M18); \n",
      "\\node[black, inner sep=1pt] (N19) at (-0.000 in, -1.250 in) {\\scriptsize $19$}; \n",
      "\\node[shape = circle] (M19) at (-0.000 in, -1.250 in) {}; \n",
      "\\draw[-{Stealth[quick, flex']}] (M19) edge [out = 243.000, in = 298.000, looseness=15] (M19); \n",
      "\\node[black, inner sep=1pt] (N20) at (0.217 in, -1.231 in) {\\scriptsize $20$}; \n",
      "\\node[shape = circle] (M20) at (0.217 in, -1.231 in) {}; \n",
      "\\draw[-{Stealth[quick, flex']}] (M20) edge [out = 253.000, in = 308.000, looseness=15] (M20); \n",
      "\\node[black, inner sep=1pt] (N21) at (0.428 in, -1.175 in) {\\scriptsize $21$}; \n",
      "\\node[shape = circle] (M21) at (0.428 in, -1.175 in) {}; \n",
      "\\draw[-{Stealth[quick, flex']}] (M21) edge [out = 263.000, in = 318.000, looseness=15] (M21); \n",
      "\\node[black, inner sep=1pt] (N22) at (0.625 in, -1.083 in) {\\scriptsize $22$}; \n",
      "\\node[shape = circle] (M22) at (0.625 in, -1.083 in) {}; \n",
      "\\draw[-{Stealth[quick, flex']}] (M22) edge [out = 273.000, in = 328.000, looseness=15] (M22); \n",
      "\\node[black, inner sep=1pt] (N23) at (0.803 in, -0.958 in) {\\scriptsize $23$}; \n",
      "\\node[shape = circle] (M23) at (0.803 in, -0.958 in) {}; \n",
      "\\draw[-{Stealth[quick, flex']}] (M23) edge [out = 283.000, in = 338.000, looseness=15] (M23); \n",
      "\\node[black, inner sep=1pt] (N24) at (0.958 in, -0.803 in) {\\scriptsize $24$}; \n",
      "\\node[shape = circle] (M24) at (0.958 in, -0.803 in) {}; \n",
      "\\draw[-{Stealth[quick, flex']}] (M24) edge [out = 293.000, in = 348.000, looseness=15] (M24); \n",
      "\\node[black, inner sep=1pt] (N25) at (1.083 in, -0.625 in) {\\scriptsize $25$}; \n",
      "\\node[shape = circle] (M25) at (1.083 in, -0.625 in) {}; \n",
      "\\draw[-{Stealth[quick, flex']}] (M25) edge [out = 303.000, in = 358.000, looseness=15] (M25); \n",
      "\\node[black, inner sep=1pt] (N26) at (1.175 in, -0.428 in) {\\scriptsize $26$}; \n",
      "\\node[shape = circle] (M26) at (1.175 in, -0.428 in) {}; \n",
      "\\draw[-{Stealth[quick, flex']}] (M26) edge [out = 313.000, in = 368.000, looseness=15] (M26); \n",
      "\\node[black, inner sep=1pt] (N27) at (1.231 in, -0.217 in) {\\scriptsize $27$}; \n",
      "\\node[shape = circle] (M27) at (1.231 in, -0.217 in) {}; \n",
      "\\draw[-{Stealth[quick, flex']}] (M27) edge [out = 323.000, in = 378.000, looseness=15] (M27); \n",
      "\\node[black, inner sep=1pt] (N28) at (1.250 in, -0.000 in) {\\scriptsize $28$}; \n",
      "\\node[shape = circle] (M28) at (1.250 in, -0.000 in) {}; \n",
      "\\draw[-{Stealth[quick, flex']}] (M28) edge [out = 333.000, in = 388.000, looseness=15] (M28); \n",
      "\\node[black, inner sep=1pt] (N29) at (1.231 in, 0.217 in) {\\scriptsize $29$}; \n",
      "\\node[shape = circle] (M29) at (1.231 in, 0.217 in) {}; \n",
      "\\draw[-{Stealth[quick, flex']}] (M29) edge [out = 343.000, in = 398.000, looseness=15] (M29); \n",
      "\\node[black, inner sep=1pt] (N30) at (1.175 in, 0.428 in) {\\scriptsize $30$}; \n",
      "\\node[shape = circle] (M30) at (1.175 in, 0.428 in) {}; \n",
      "\\draw[-{Stealth[quick, flex']}] (M30) edge [out = 353.000, in = 408.000, looseness=15] (M30); \n",
      "\\node[black, inner sep=1pt] (N31) at (1.083 in, 0.625 in) {\\scriptsize $31$}; \n",
      "\\node[shape = circle] (M31) at (1.083 in, 0.625 in) {}; \n",
      "\\draw[-{Stealth[quick, flex']}] (M31) edge [out = 363.000, in = 418.000, looseness=15] (M31); \n",
      "\\node[black, inner sep=1pt] (N32) at (0.958 in, 0.803 in) {\\scriptsize $32$}; \n",
      "\\node[shape = circle] (M32) at (0.958 in, 0.803 in) {}; \n",
      "\\draw[-{Stealth[quick, flex']}] (M32) edge [out = 373.000, in = 428.000, looseness=15] (M32); \n",
      "\\node[black, inner sep=1pt] (N33) at (0.803 in, 0.958 in) {\\scriptsize $33$}; \n",
      "\\node[shape = circle] (M33) at (0.803 in, 0.958 in) {}; \n",
      "\\draw[-{Stealth[quick, flex']}] (M33) edge [out = 383.000, in = 438.000, looseness=15] (M33); \n",
      "\\node[black, inner sep=1pt] (N34) at (0.625 in, 1.083 in) {\\scriptsize $34$}; \n",
      "\\node[shape = circle] (M34) at (0.625 in, 1.083 in) {}; \n",
      "\\draw[-{Stealth[quick, flex']}] (M34) edge [out = 393.000, in = 448.000, looseness=15] (M34); \n",
      "\\node[black, inner sep=1pt] (N35) at (0.428 in, 1.175 in) {\\scriptsize $35$}; \n",
      "\\node[shape = circle] (M35) at (0.428 in, 1.175 in) {}; \n",
      "\\draw[-{Stealth[quick, flex']}] (M35) edge [out = 403.000, in = 458.000, looseness=15] (M35); \n",
      "\\node[black, inner sep=1pt] (N36) at (0.217 in, 1.231 in) {\\scriptsize $36$}; \n",
      "\\node[shape = circle] (M36) at (0.217 in, 1.231 in) {}; \n",
      "\\draw[-{Stealth[quick, flex']}] (M36) edge [out = 413.000, in = 468.000, looseness=15] (M36); \n",
      "\n"
     ]
    }
   ],
   "source": [
    "print diagram(1,37,1.25)"
   ]
  },
  {
   "cell_type": "code",
   "execution_count": 158,
   "metadata": {
    "collapsed": false
   },
   "outputs": [],
   "source": [
    "for x in range(1,7):\n",
    "    for y in range(1,7):\n",
    "        filename = \"MD%d_%d.tex\"%(x,y)\n",
    "        a = (x) + 6*(y-1)\n",
    "        S = diagram(a,37,1.5, guide=False)\n",
    "        f = open(filename, 'w')\n",
    "        f.write(S)\n",
    "        f.close()"
   ]
  },
  {
   "cell_type": "code",
   "execution_count": 159,
   "metadata": {
    "collapsed": false
   },
   "outputs": [
    {
     "data": {
      "text/plain": [
       "22.125"
      ]
     },
     "execution_count": 159,
     "metadata": {},
     "output_type": "execute_result"
    }
   ],
   "source": [
    "(6 * 3.75) - 1.875 + 1.5"
   ]
  },
  {
   "cell_type": "code",
   "execution_count": null,
   "metadata": {
    "collapsed": true
   },
   "outputs": [],
   "source": []
  },
  {
   "cell_type": "code",
   "execution_count": null,
   "metadata": {
    "collapsed": true
   },
   "outputs": [],
   "source": []
  }
 ],
 "metadata": {
  "kernelspec": {
   "display_name": "Python 2",
   "language": "python",
   "name": "python2"
  },
  "language_info": {
   "codemirror_mode": {
    "name": "ipython",
    "version": 2
   },
   "file_extension": ".py",
   "mimetype": "text/x-python",
   "name": "python",
   "nbconvert_exporter": "python",
   "pygments_lexer": "ipython2",
   "version": "2.7.11"
  }
 },
 "nbformat": 4,
 "nbformat_minor": 0
}
